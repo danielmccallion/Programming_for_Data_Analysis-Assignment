{
 "cells": [
  {
   "cell_type": "markdown",
   "metadata": {},
   "source": [
    "# Assignment\n",
    "\n",
    "# The numpy.random package"
   ]
  },
  {
   "cell_type": "markdown",
   "metadata": {},
   "source": [
    "## The purpose of numpy.random\n",
    "\n",
    "NumPy is a library for Python that has many optimised mathematical functions that provide an effective way of working with multi-dimensional arrays. Within NumPy there is a package called random. This package is used to produce sequences of pseudo random numbers for different statistical distributions [1]. This makes it a handy tool when it comes to data analysis. NumPy random can produce sets of data for testing algorithms and functions and for generating distributions to compare the results of some analysis against."
   ]
  },
  {
   "cell_type": "markdown",
   "metadata": {},
   "source": [
    "With the functions contained within random each has many different inputs that can change each distribution of data outputted in how the data is spread, the number of values returned and the range these values fall into. Each function is different in what can be changed and a few of them will be explored and their inputs, outputs explained here. There are many different functions available and technical information on their use is available in the NumPy documentation [2]. "
   ]
  },
  {
   "cell_type": "markdown",
   "metadata": {},
   "source": [
    "Random generates pseudo random numbers because the numbers appear random, but they are really predetermined and so are deterministic which can be good for data analysis in that the results can be reproduced [3]. When a program generates a random number without an external real-world random input the output can be predicted and so it is not truly random. The seed of the random number generator is the starting point for the pseudo random sequence. If you tell python which seed to use you can generate the same pseudo random numbers each time the code runs and so the same results and conclusions can be reached. "
   ]
  },
  {
   "cell_type": "markdown",
   "metadata": {},
   "source": [
    "### Simple random data\n",
    "\n",
    "Simple random data has functions that return random data such as integers, floats and characters between a inputed range. The outputs are simplier than the statistical distributions also provided by random. The inputs and outputs of these simple random data functions will be explained here.  "
   ]
  },
  {
   "cell_type": "code",
   "execution_count": 102,
   "metadata": {},
   "outputs": [],
   "source": [
    "# Import the numpy package\n",
    "import numpy as np\n",
    "\n",
    "# Get a random number generator object to produce the random numbers\n",
    "rng = np.random.default_rng()"
   ]
  },
  {
   "cell_type": "markdown",
   "metadata": {},
   "source": [
    "#### numpy.random.Generator.integers\n",
    "\n",
    " <code>Generator.integers(low, high=None, size=None, dtype=np.int64, endpoint=False)</code>\n",
    "\n",
    "Integers returns random integers from input <code>low</code> to input <code>high</code>. <code>low</code> is inclusive (>=) and <code>high</code> is exclusive (<). You must give it at least the input <code>low</code>. If <code>high</code> is empty then 0 will be substituted for it [4].   \n",
    "For the example running the below will return 15 numbers between 0 and <4:"
   ]
  },
  {
   "cell_type": "code",
   "execution_count": 103,
   "metadata": {},
   "outputs": [
    {
     "data": {
      "text/plain": [
       "array([1, 0, 1, 0, 1, 3, 1, 3, 3, 3, 3, 2, 3, 0, 2], dtype=int64)"
      ]
     },
     "execution_count": 103,
     "metadata": {},
     "output_type": "execute_result"
    }
   ],
   "source": [
    "rng.integers(4, size=15)"
   ]
  },
  {
   "cell_type": "markdown",
   "metadata": {},
   "source": [
    "Input <code>size</code> is the shape of the value to be returned. While 15 above returned 15 values a multi-dimensional array can also be returned such as the 3x4x2 array filled with values in the range 1 and <10:"
   ]
  },
  {
   "cell_type": "code",
   "execution_count": 104,
   "metadata": {},
   "outputs": [
    {
     "data": {
      "text/plain": [
       "array([[[4, 5],\n",
       "        [1, 5],\n",
       "        [7, 2],\n",
       "        [7, 7]],\n",
       "\n",
       "       [[3, 6],\n",
       "        [2, 2],\n",
       "        [7, 2],\n",
       "        [7, 7]],\n",
       "\n",
       "       [[9, 1],\n",
       "        [1, 7],\n",
       "        [6, 9],\n",
       "        [9, 5]]], dtype=int64)"
      ]
     },
     "execution_count": 104,
     "metadata": {},
     "output_type": "execute_result"
    }
   ],
   "source": [
    "rng.integers(1, high=10, size=(3,4,2))"
   ]
  },
  {
   "cell_type": "markdown",
   "metadata": {},
   "source": [
    "The data produced by random can be plotted to examine the distribution of the data produced. With this we can see is the pseudo random numbers generateds distribution is as expexted for our need. For integers it would be expected to recieve data where the probability of recieving each integer is the same."
   ]
  },
  {
   "cell_type": "code",
   "execution_count": 105,
   "metadata": {},
   "outputs": [],
   "source": [
    "# Import pyplot package for creating graphs\n",
    "\n",
    "import matplotlib.pyplot as plt"
   ]
  },
  {
   "cell_type": "markdown",
   "metadata": {},
   "source": [
    "To visualise the distribution of data for integers we will get it to generate the numbers between 0 and <100 10,000 times to see if the histogram this produces when graphed is flat."
   ]
  },
  {
   "cell_type": "code",
   "execution_count": 106,
   "metadata": {},
   "outputs": [],
   "source": [
    "x = rng.integers(100, size=10000)"
   ]
  },
  {
   "cell_type": "code",
   "execution_count": 107,
   "metadata": {},
   "outputs": [
    {
     "data": {
      "text/plain": [
       "(array([ 993.,  965., 1031.,  971.,  954., 1029., 1007., 1042., 1027.,\n",
       "         981.]),\n",
       " array([ 0. ,  9.9, 19.8, 29.7, 39.6, 49.5, 59.4, 69.3, 79.2, 89.1, 99. ]),\n",
       " <BarContainer object of 10 artists>)"
      ]
     },
     "execution_count": 107,
     "metadata": {},
     "output_type": "execute_result"
    },
    {
     "data": {
      "image/png": "[encoded data removed]",
      "text/plain": [
       "<Figure size 432x288 with 1 Axes>"
      ]
     },
     "metadata": {
      "needs_background": "light"
     },
     "output_type": "display_data"
    }
   ],
   "source": [
    "plt.hist(x)"
   ]
  },
  {
   "cell_type": "markdown",
   "metadata": {},
   "source": [
    "As you can see it is fairly flat. When even more numbers are generated as below with 1,000,000 it will be even more flat."
   ]
  },
  {
   "cell_type": "code",
   "execution_count": 108,
   "metadata": {},
   "outputs": [],
   "source": [
    "x = rng.integers(100, size=1000000)"
   ]
  },
  {
   "cell_type": "code",
   "execution_count": 109,
   "metadata": {},
   "outputs": [
    {
     "data": {
      "text/plain": [
       "(array([100312., 100104., 100381.,  99872.,  99907., 100018., 100208.,\n",
       "         99662.,  99929.,  99607.]),\n",
       " array([ 0. ,  9.9, 19.8, 29.7, 39.6, 49.5, 59.4, 69.3, 79.2, 89.1, 99. ]),\n",
       " <BarContainer object of 10 artists>)"
      ]
     },
     "execution_count": 109,
     "metadata": {},
     "output_type": "execute_result"
    },
    {
     "data": {
      "image/png": "[encoded data removed]",
      "text/plain": [
       "<Figure size 432x288 with 1 Axes>"
      ]
     },
     "metadata": {
      "needs_background": "light"
     },
     "output_type": "display_data"
    }
   ],
   "source": [
    "plt.hist(x)"
   ]
  },
  {
   "cell_type": "markdown",
   "metadata": {},
   "source": [
    "#### numpy.random.Generator.random\n",
    "<code>Generator.random(size=None, dtype=np.float64, out=None</code>\n",
    "\n",
    "Random returns floats between 0 and 1. <code>size</code> determines the shape of the data returned, so the number of values and the type of array [5]. For example the below returns 10 floats between 0 and 1."
   ]
  },
  {
   "cell_type": "code",
   "execution_count": 110,
   "metadata": {},
   "outputs": [
    {
     "data": {
      "text/plain": [
       "array([0.72240626, 0.73613698, 0.59529328, 0.56657633, 0.61579567,\n",
       "       0.47056528, 0.36471647, 0.8669218 , 0.7530218 , 0.72766899])"
      ]
     },
     "execution_count": 110,
     "metadata": {},
     "output_type": "execute_result"
    }
   ],
   "source": [
    "rng.random((10,))"
   ]
  },
  {
   "cell_type": "markdown",
   "metadata": {},
   "source": [
    "The below returns a 2 dimensional array with 5 floats in each row: "
   ]
  },
  {
   "cell_type": "code",
   "execution_count": 111,
   "metadata": {},
   "outputs": [
    {
     "data": {
      "text/plain": [
       "array([[0.33054439, 0.05268276, 0.30725363, 0.48209104, 0.46464787],\n",
       "       [0.8852806 , 0.55064233, 0.15110782, 0.6291631 , 0.58606529]])"
      ]
     },
     "execution_count": 111,
     "metadata": {},
     "output_type": "execute_result"
    }
   ],
   "source": [
    "rng.random((2,5))"
   ]
  },
  {
   "cell_type": "markdown",
   "metadata": {},
   "source": [
    "There is a uniform distribution returned from random just like integers as can be seen in the histogram below:"
   ]
  },
  {
   "cell_type": "code",
   "execution_count": 112,
   "metadata": {},
   "outputs": [],
   "source": [
    "x = rng.random((100000,))"
   ]
  },
  {
   "cell_type": "code",
   "execution_count": 113,
   "metadata": {},
   "outputs": [
    {
     "data": {
      "text/plain": [
       "(array([ 9995., 10007.,  9864., 10030., 10133.,  9979., 10109.,  9925.,\n",
       "         9922., 10036.]),\n",
       " array([1.77898184e-05, 1.00015646e-01, 2.00013503e-01, 3.00011359e-01,\n",
       "        4.00009215e-01, 5.00007072e-01, 6.00004928e-01, 7.00002785e-01,\n",
       "        8.00000641e-01, 8.99998498e-01, 9.99996354e-01]),\n",
       " <BarContainer object of 10 artists>)"
      ]
     },
     "execution_count": 113,
     "metadata": {},
     "output_type": "execute_result"
    },
    {
     "data": {
      "image/png": "[encoded data removed]",
      "text/plain": [
       "<Figure size 432x288 with 1 Axes>"
      ]
     },
     "metadata": {
      "needs_background": "light"
     },
     "output_type": "display_data"
    }
   ],
   "source": [
    "plt.hist(x)"
   ]
  },
  {
   "cell_type": "markdown",
   "metadata": {},
   "source": [
    "### Permutations\n",
    "Permuations contains shuffle and permutation. These are quite similar in their function."
   ]
  },
  {
   "cell_type": "markdown",
   "metadata": {},
   "source": [
    "#### numpy.random.Generator.shuffle\n",
    "<code>Generator.shuffle(x, axis=0)</code>   \n",
    "What shuffle does is takes an array and modifies the sequence of its contents are in by shuffling them [6]. <code>x</code> is the array input and the function does not return anything."
   ]
  },
  {
   "cell_type": "code",
   "execution_count": 114,
   "metadata": {},
   "outputs": [
    {
     "data": {
      "text/plain": [
       "array([4, 3, 8, 5, 9, 4, 2, 0, 0, 0], dtype=int64)"
      ]
     },
     "execution_count": 114,
     "metadata": {},
     "output_type": "execute_result"
    }
   ],
   "source": [
    "x = rng.integers(10, size=10)\n",
    "x"
   ]
  },
  {
   "cell_type": "code",
   "execution_count": 115,
   "metadata": {},
   "outputs": [
    {
     "data": {
      "text/plain": [
       "array([9, 0, 8, 5, 2, 4, 0, 3, 4, 0], dtype=int64)"
      ]
     },
     "execution_count": 115,
     "metadata": {},
     "output_type": "execute_result"
    }
   ],
   "source": [
    "rng.shuffle(x)\n",
    "x"
   ]
  },
  {
   "cell_type": "markdown",
   "metadata": {},
   "source": [
    "#### numpy.random.Generator.permutation\n",
    "<code>Generator.permutation(x, axis=0)</code>   \n",
    "With permutation the input array is not changed and an output is provided taht is shuffled [7]. <code>x</code> is either the array to used as the base for the array to be shuffled and returned or an integer that will be the number of values to return and the number that the array will go up to. As you can see below x from earlier is not changed:"
   ]
  },
  {
   "cell_type": "code",
   "execution_count": 116,
   "metadata": {},
   "outputs": [
    {
     "data": {
      "text/plain": [
       "array([3, 2, 0, 4, 0, 4, 9, 8, 5, 0], dtype=int64)"
      ]
     },
     "execution_count": 116,
     "metadata": {},
     "output_type": "execute_result"
    }
   ],
   "source": [
    "rng.permutation(x)"
   ]
  },
  {
   "cell_type": "code",
   "execution_count": 117,
   "metadata": {},
   "outputs": [
    {
     "data": {
      "text/plain": [
       "array([9, 0, 8, 5, 2, 4, 0, 3, 4, 0], dtype=int64)"
      ]
     },
     "execution_count": 117,
     "metadata": {},
     "output_type": "execute_result"
    }
   ],
   "source": [
    "x"
   ]
  },
  {
   "cell_type": "markdown",
   "metadata": {},
   "source": [
    "Below is where the input is an integer:"
   ]
  },
  {
   "cell_type": "code",
   "execution_count": 118,
   "metadata": {},
   "outputs": [
    {
     "data": {
      "text/plain": [
       "array([5, 7, 9, 2, 1, 6, 3, 4, 0, 8])"
      ]
     },
     "execution_count": 118,
     "metadata": {},
     "output_type": "execute_result"
    }
   ],
   "source": [
    "rng.permutation(10)"
   ]
  },
  {
   "cell_type": "code",
   "execution_count": 119,
   "metadata": {},
   "outputs": [
    {
     "data": {
      "text/plain": [
       "array([43, 22, 82, 35, 26, 84, 55, 42, 86, 69, 49, 92, 29, 65, 10, 20, 77,\n",
       "       99, 13, 56, 45, 53,  7, 41, 11, 27, 37,  3, 64, 61,  4,  6, 62, 32,\n",
       "       75, 21, 57, 52, 19, 17, 95, 79, 60, 28, 97, 31, 38, 46, 24, 50, 91,\n",
       "       78, 83,  2, 15, 90, 67, 76, 51, 54, 74, 12, 93,  0,  9, 85, 87, 68,\n",
       "       18,  8, 81, 70, 30, 98, 25, 88, 14, 72, 33, 58, 34, 39, 94, 63, 36,\n",
       "        5, 47, 16, 48, 73, 44, 59, 40, 66, 80, 71, 23,  1, 89, 96])"
      ]
     },
     "execution_count": 119,
     "metadata": {},
     "output_type": "execute_result"
    }
   ],
   "source": [
    "rng.permutation(100)"
   ]
  },
  {
   "cell_type": "markdown",
   "metadata": {},
   "source": [
    "### Distributions\n",
    "\n",
    "NumPy random has many different statistical distributions that can be used. 5 will be described here.\n",
    "\n",
    "* normal\n",
    "* uniform\n",
    "* zipf\n",
    "* poisson\n",
    "* binomial"
   ]
  },
  {
   "cell_type": "markdown",
   "metadata": {},
   "source": [
    "#### numpy.random.Generator.uniform\n",
    "The uniform distribution creates an array of values where the probability of each value occuring should be equal. This is how the integers and random functions described above are. They return data that is uniformly distributed. <code>low</code> is inclusive and the lowest possible value (>=) and <code>high</code> is exclusive (<) and the highest possible value. <code>size</code> is the the shape of the data to return so the quantity of values and the type of array. below returns 10 values between -2 and <4:"
   ]
  },
  {
   "cell_type": "code",
   "execution_count": 120,
   "metadata": {},
   "outputs": [
    {
     "data": {
      "text/plain": [
       "array([ 1.85346405,  1.38894425,  0.67321403, -1.27563567, -1.47972791,\n",
       "        1.91550562,  1.04479737,  0.97387117, -1.74515635, -0.72641437])"
      ]
     },
     "execution_count": 120,
     "metadata": {},
     "output_type": "execute_result"
    }
   ],
   "source": [
    "x = rng.uniform(-2,4,10)\n",
    "x"
   ]
  },
  {
   "cell_type": "markdown",
   "metadata": {},
   "source": [
    "The flatness of the histogram shows how evenly spread the data is:"
   ]
  },
  {
   "cell_type": "code",
   "execution_count": 121,
   "metadata": {},
   "outputs": [
    {
     "data": {
      "text/plain": [
       "(array([10075., 10033.,  9948., 10098.,  9841., 10014., 10024., 10004.,\n",
       "         9955., 10008.]),\n",
       " array([-9.99980689e-01, -7.99984211e-01, -5.99987733e-01, -3.99991256e-01,\n",
       "        -1.99994778e-01,  1.69959288e-06,  1.99998177e-01,  3.99994655e-01,\n",
       "         5.99991132e-01,  7.99987610e-01,  9.99984088e-01]),\n",
       " <BarContainer object of 10 artists>)"
      ]
     },
     "execution_count": 121,
     "metadata": {},
     "output_type": "execute_result"
    },
    {
     "data": {
      "image/png": "[encoded data removed]",
      "text/plain": [
       "<Figure size 432x288 with 1 Axes>"
      ]
     },
     "metadata": {
      "needs_background": "light"
     },
     "output_type": "display_data"
    }
   ],
   "source": [
    "x = rng.uniform(-1,1,100000)\n",
    "plt.hist(x)"
   ]
  },
  {
   "cell_type": "markdown",
   "metadata": {},
   "source": [
    "#### numpy.random.Generator.normal\n",
    "The normal distribution creates an array of values where the probability around a mean value is larger than the probability further away from it where the probability tapers off. The normal distribution is also reffered to as the Gaussian Distribution after the German mathematician Carl Friedrich Gauss [8].\n",
    "\n",
    "The function takes <code>loc</code> for mu the mean the data will be centered around and <code>scale</code> for sigma for the deviation the values should be from the mean. It also takes <code>size</code> the number of values to have in the array. Below the mean is 2 which 90% of the values will fall within 3 times 0.1 from. "
   ]
  },
  {
   "cell_type": "code",
   "execution_count": 122,
   "metadata": {},
   "outputs": [],
   "source": [
    "x = rng.normal(2, 0.1, 10000)"
   ]
  },
  {
   "cell_type": "code",
   "execution_count": 123,
   "metadata": {},
   "outputs": [
    {
     "data": {
      "text/plain": [
       "(array([  25.,  152.,  703., 1790., 2963., 2527., 1358.,  409.,   67.,\n",
       "           6.]),\n",
       " array([1.64105443, 1.71589843, 1.79074242, 1.86558641, 1.94043041,\n",
       "        2.0152744 , 2.09011839, 2.16496239, 2.23980638, 2.31465037,\n",
       "        2.38949436]),\n",
       " <BarContainer object of 10 artists>)"
      ]
     },
     "execution_count": 123,
     "metadata": {},
     "output_type": "execute_result"
    },
    {
     "data": {
      "image/png": "[encoded data removed]",
      "text/plain": [
       "<Figure size 432x288 with 1 Axes>"
      ]
     },
     "metadata": {
      "needs_background": "light"
     },
     "output_type": "display_data"
    }
   ],
   "source": [
    "plt.hist(x)"
   ]
  },
  {
   "cell_type": "markdown",
   "metadata": {},
   "source": [
    "## References\n",
    "[1] NumPy Random   \n",
    "https://numpy.org/doc/stable/reference/random/index.html\n",
    "\n",
    "[2] Generator documentation   \n",
    "https://numpy.org/doc/stable/reference/random/generator.html\n",
    "\n",
    "[3] Pseudo random numbers  \n",
    "https://www.random.org/randomness/\n",
    "\n",
    "[4] Integers documentation   \n",
    "https://numpy.org/doc/stable/reference/random/generated/numpy.random.Generator.integers.html#numpy.random.Generator.integers\n",
    "\n",
    "[5] Random for floats documentation  \n",
    "https://numpy.org/doc/stable/reference/random/generated/numpy.random.Generator.random.html#numpy.random.Generator.random\n",
    "\n",
    "[6] Shuffle documentation   \n",
    "https://numpy.org/doc/stable/reference/random/generated/numpy.random.Generator.shuffle.html#numpy.random.Generator.shuffle\n",
    "\n",
    "[7] Permutation documentation  \n",
    "https://numpy.org/doc/stable/reference/random/generated/numpy.random.Generator.permutation.html#numpy.random.Generator.permutation\n",
    "\n",
    "[8] Gaussian Distribution   \n",
    "https://www.w3schools.com/python/numpy_random_normal.asp"
   ]
  }
 ],
 "metadata": {
  "kernelspec": {
   "display_name": "Python 3",
   "language": "python",
   "name": "python3"
  },
  "language_info": {
   "codemirror_mode": {
    "name": "ipython",
    "version": 3
   },
   "file_extension": ".py",
   "mimetype": "text/x-python",
   "name": "python",
   "nbconvert_exporter": "python",
   "pygments_lexer": "ipython3",
   "version": "3.7.3"
  }
 },
 "nbformat": 4,
 "nbformat_minor": 2
}

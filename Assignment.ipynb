{
 "cells": [
  {
   "cell_type": "markdown",
   "metadata": {},
   "source": [
    "# Assignment\n",
    "\n",
    "# The numpy.random package"
   ]
  },
  {
   "cell_type": "markdown",
   "metadata": {},
   "source": [
    "## The purpose of numpy.random\n",
    "\n",
    "NumPy is a library for Python that has many optimised mathematical functions that provide an effective way of working with multi-dimensional arrays. Within NumPy there is a package called random. This package is used to produce sequences of pseudo random numbers for different statistical distributions [1]. This makes it a handy tool when it comes to data analysis. NumPy random can produce sets of data for testing algorithms and functions and for generating distributions to compare the results of some analysis against."
   ]
  },
  {
   "cell_type": "markdown",
   "metadata": {},
   "source": [
    "With the functions contained within random each has many different inputs that can change each distribution of data outputted in how the data is spread, the number of values returned and the range these values fall into. Each function is different in what can be changed and a few of them will be explored and their inputs, outputs explained here. There are many different functions available and technical information on their use is available in the NumPy documentation [2]. "
   ]
  },
  {
   "cell_type": "markdown",
   "metadata": {},
   "source": [
    "Random generates pseudo random numbers because the numbers appear random, but they are really predetermined and so are deterministic which can be good for data analysis in that the results can be reproduced [3]. When a program generates a random number without an external real-world random input the output can be predicted and so it is not truly random. The seed of the random number generator is the starting point for the pseudo random sequence. If you tell python which seed to use you can generate the same pseudo random numbers each time the code runs and so the same results and conclusions can be reached. "
   ]
  },
  {
   "cell_type": "markdown",
   "metadata": {},
   "source": [
    "### Simple random data\n",
    "\n",
    "Simple random data has functions that return random data such as integers, floats and characters between a inputed range. The outputs are simplier than the statistical distributions also provided by random. The inputs and outputs of these simple random data functions will be explained here.  "
   ]
  },
  {
   "cell_type": "code",
   "execution_count": 74,
   "metadata": {},
   "outputs": [],
   "source": [
    "# Import the numpy package\n",
    "import numpy as np\n",
    "\n",
    "# Get a random number generator object to produce the random numbers\n",
    "rng = np.random.default_rng()"
   ]
  },
  {
   "cell_type": "markdown",
   "metadata": {},
   "source": [
    "#### numpy.random.Generator.integers\n",
    "\n",
    " <code>Generator.integers(low, high=None, size=None, dtype=np.int64, endpoint=False)</code>\n",
    "\n",
    "Integers returns random integers from input <code>low</code> to input <code>high</code>. <code>low</code> is inclusive (>=) and <code>high</code> is exclusive (<). You must give it at least the input <code>low</code>. If <code>high</code> is empty then 0 will be substituted for it [4].   \n",
    "For the example running the below will return 15 numbers between 0 and <4:"
   ]
  },
  {
   "cell_type": "code",
   "execution_count": 75,
   "metadata": {},
   "outputs": [
    {
     "data": {
      "text/plain": [
       "array([1, 3, 2, 0, 0, 3, 0, 1, 3, 3, 0, 2, 2, 0, 0], dtype=int64)"
      ]
     },
     "execution_count": 75,
     "metadata": {},
     "output_type": "execute_result"
    }
   ],
   "source": [
    "rng.integers(4, size=15)"
   ]
  },
  {
   "cell_type": "markdown",
   "metadata": {},
   "source": [
    "Input <code>size</code> is the shape of the value to be returned. While 15 above returned 15 values a multi-dimensional array can also be returned such as the 3x4x2 array filled with values in the range 1 and <10:"
   ]
  },
  {
   "cell_type": "code",
   "execution_count": 76,
   "metadata": {},
   "outputs": [
    {
     "data": {
      "text/plain": [
       "array([[[5, 5],\n",
       "        [4, 9],\n",
       "        [7, 5],\n",
       "        [2, 7]],\n",
       "\n",
       "       [[8, 2],\n",
       "        [5, 4],\n",
       "        [6, 9],\n",
       "        [2, 4]],\n",
       "\n",
       "       [[1, 8],\n",
       "        [5, 5],\n",
       "        [8, 3],\n",
       "        [6, 9]]], dtype=int64)"
      ]
     },
     "execution_count": 76,
     "metadata": {},
     "output_type": "execute_result"
    }
   ],
   "source": [
    "rng.integers(1, high=10, size=(3,4,2))"
   ]
  },
  {
   "cell_type": "markdown",
   "metadata": {},
   "source": [
    "The data produced by random can be plotted to examine the distribution of the data produced. With this we can see is the pseudo random numbers generateds distribution is as expexted for our need. For integers it would be expected to recieve data where the probability of recieving each integer is the same."
   ]
  },
  {
   "cell_type": "code",
   "execution_count": 77,
   "metadata": {},
   "outputs": [],
   "source": [
    "# Import pyplot package for creating graphs\n",
    "\n",
    "import matplotlib.pyplot as plt"
   ]
  },
  {
   "cell_type": "markdown",
   "metadata": {},
   "source": [
    "To visualise the distribution of data for integers we will get it to generate the numbers between 0 and <100 10,000 times to see if the histogram this produces when graphed is flat."
   ]
  },
  {
   "cell_type": "code",
   "execution_count": 78,
   "metadata": {},
   "outputs": [],
   "source": [
    "x = rng.integers(100, size=10000)"
   ]
  },
  {
   "cell_type": "code",
   "execution_count": 79,
   "metadata": {},
   "outputs": [
    {
     "data": {
      "text/plain": [
       "(array([ 976.,  965.,  922., 1000.,  983., 1034., 1018., 1057., 1063.,\n",
       "         982.]),\n",
       " array([ 0. ,  9.9, 19.8, 29.7, 39.6, 49.5, 59.4, 69.3, 79.2, 89.1, 99. ]),\n",
       " <BarContainer object of 10 artists>)"
      ]
     },
     "execution_count": 79,
     "metadata": {},
     "output_type": "execute_result"
    },
    {
     "data": {
      "image/png": "[encoded data removed]",
      "text/plain": [
       "<Figure size 432x288 with 1 Axes>"
      ]
     },
     "metadata": {
      "needs_background": "light"
     },
     "output_type": "display_data"
    }
   ],
   "source": [
    "plt.hist(x)"
   ]
  },
  {
   "cell_type": "markdown",
   "metadata": {},
   "source": [
    "As you can see it is fairly flat. When even more numbers are generated as below with 1,000,000 it will be even more flat."
   ]
  },
  {
   "cell_type": "code",
   "execution_count": 80,
   "metadata": {},
   "outputs": [],
   "source": [
    "x = rng.integers(100, size=1000000)"
   ]
  },
  {
   "cell_type": "code",
   "execution_count": 81,
   "metadata": {},
   "outputs": [
    {
     "data": {
      "text/plain": [
       "(array([ 99970.,  99508.,  99844.,  99674., 100205., 100288., 100548.,\n",
       "         99998.,  99830., 100135.]),\n",
       " array([ 0. ,  9.9, 19.8, 29.7, 39.6, 49.5, 59.4, 69.3, 79.2, 89.1, 99. ]),\n",
       " <BarContainer object of 10 artists>)"
      ]
     },
     "execution_count": 81,
     "metadata": {},
     "output_type": "execute_result"
    },
    {
     "data": {
      "image/png": "[encoded data removed]",
      "text/plain": [
       "<Figure size 432x288 with 1 Axes>"
      ]
     },
     "metadata": {
      "needs_background": "light"
     },
     "output_type": "display_data"
    }
   ],
   "source": [
    "plt.hist(x)"
   ]
  },
  {
   "cell_type": "markdown",
   "metadata": {},
   "source": [
    "#### numpy.random.Generator.random\n",
    "<code>Generator.random(size=None, dtype=np.float64, out=None</code>\n",
    "\n",
    "Random returns floats between 0 and 1. <code>size</code> determines the shape of the data returned, so the number of values and the type of array [5]. For example the below returns 10 floats between 0 and 1."
   ]
  },
  {
   "cell_type": "code",
   "execution_count": 82,
   "metadata": {},
   "outputs": [
    {
     "data": {
      "text/plain": [
       "array([0.99803023, 0.99227998, 0.54344932, 0.77977891, 0.96453864,\n",
       "       0.24355165, 0.79168897, 0.29677036, 0.82809514, 0.28567444])"
      ]
     },
     "execution_count": 82,
     "metadata": {},
     "output_type": "execute_result"
    }
   ],
   "source": [
    "rng.random((10,))"
   ]
  },
  {
   "cell_type": "markdown",
   "metadata": {},
   "source": [
    "The below returns a 2 dimensional array with 5 floats in each row: "
   ]
  },
  {
   "cell_type": "code",
   "execution_count": 83,
   "metadata": {},
   "outputs": [
    {
     "data": {
      "text/plain": [
       "array([[0.87344683, 0.53570884, 0.51806248, 0.96025494, 0.48310151],\n",
       "       [0.03501174, 0.24075844, 0.3059748 , 0.44100779, 0.08456947]])"
      ]
     },
     "execution_count": 83,
     "metadata": {},
     "output_type": "execute_result"
    }
   ],
   "source": [
    "rng.random((2,5))"
   ]
  },
  {
   "cell_type": "markdown",
   "metadata": {},
   "source": [
    "There is a uniform distribution returned from random just like integers as can be seen in the histogram below:"
   ]
  },
  {
   "cell_type": "code",
   "execution_count": 84,
   "metadata": {},
   "outputs": [],
   "source": [
    "x = rng.random((100000,))"
   ]
  },
  {
   "cell_type": "code",
   "execution_count": 85,
   "metadata": {},
   "outputs": [
    {
     "data": {
      "text/plain": [
       "(array([10211.,  9985., 10044.,  9915., 10053., 10047., 10035.,  9818.,\n",
       "         9919.,  9973.]),\n",
       " array([2.17499683e-05, 1.00018447e-01, 2.00015144e-01, 3.00011842e-01,\n",
       "        4.00008539e-01, 5.00005236e-01, 6.00001934e-01, 6.99998631e-01,\n",
       "        7.99995328e-01, 8.99992025e-01, 9.99988723e-01]),\n",
       " <BarContainer object of 10 artists>)"
      ]
     },
     "execution_count": 85,
     "metadata": {},
     "output_type": "execute_result"
    },
    {
     "data": {
      "image/png": "[encoded data removed]",
      "text/plain": [
       "<Figure size 432x288 with 1 Axes>"
      ]
     },
     "metadata": {
      "needs_background": "light"
     },
     "output_type": "display_data"
    }
   ],
   "source": [
    "plt.hist(x)"
   ]
  },
  {
   "cell_type": "markdown",
   "metadata": {},
   "source": [
    "### Permutations\n",
    "Permuations contains shuffle and permutation. These are quite similar in their function."
   ]
  },
  {
   "cell_type": "markdown",
   "metadata": {},
   "source": [
    "#### numpy.random.Generator.shuffle\n",
    "<code>Generator.shuffle(x, axis=0)</code>   \n",
    "What shuffle does is takes an array and modifies the sequence of its contents are in by shuffling them [6]. <code>x</code> is the array input and the function does not return anything."
   ]
  },
  {
   "cell_type": "code",
   "execution_count": 86,
   "metadata": {},
   "outputs": [
    {
     "data": {
      "text/plain": [
       "array([6, 0, 7, 3, 7, 5, 9, 3, 1, 8], dtype=int64)"
      ]
     },
     "execution_count": 86,
     "metadata": {},
     "output_type": "execute_result"
    }
   ],
   "source": [
    "x = rng.integers(10, size=10)\n",
    "x"
   ]
  },
  {
   "cell_type": "code",
   "execution_count": 87,
   "metadata": {},
   "outputs": [
    {
     "data": {
      "text/plain": [
       "array([7, 3, 7, 1, 9, 6, 3, 5, 8, 0], dtype=int64)"
      ]
     },
     "execution_count": 87,
     "metadata": {},
     "output_type": "execute_result"
    }
   ],
   "source": [
    "rng.shuffle(x)\n",
    "x"
   ]
  },
  {
   "cell_type": "markdown",
   "metadata": {},
   "source": [
    "#### numpy.random.Generator.permutation\n",
    "<code>Generator.permutation(x, axis=0)</code>   \n",
    "With permutation the input array is not changed and an output is provided taht is shuffled [7]. <code>x</code> is either the array to used as the base for the array to be shuffled and returned or an integer that will be the number of values to return and the number that the array will go up to. As you can see below x from earlier is not changed:"
   ]
  },
  {
   "cell_type": "code",
   "execution_count": 88,
   "metadata": {},
   "outputs": [
    {
     "data": {
      "text/plain": [
       "array([6, 9, 8, 7, 7, 0, 5, 3, 1, 3], dtype=int64)"
      ]
     },
     "execution_count": 88,
     "metadata": {},
     "output_type": "execute_result"
    }
   ],
   "source": [
    "rng.permutation(x)"
   ]
  },
  {
   "cell_type": "code",
   "execution_count": 89,
   "metadata": {},
   "outputs": [
    {
     "data": {
      "text/plain": [
       "array([7, 3, 7, 1, 9, 6, 3, 5, 8, 0], dtype=int64)"
      ]
     },
     "execution_count": 89,
     "metadata": {},
     "output_type": "execute_result"
    }
   ],
   "source": [
    "x"
   ]
  },
  {
   "cell_type": "markdown",
   "metadata": {},
   "source": [
    "Below is where the input is an integer:"
   ]
  },
  {
   "cell_type": "code",
   "execution_count": 90,
   "metadata": {},
   "outputs": [
    {
     "data": {
      "text/plain": [
       "array([2, 4, 1, 0, 3, 9, 5, 8, 6, 7])"
      ]
     },
     "execution_count": 90,
     "metadata": {},
     "output_type": "execute_result"
    }
   ],
   "source": [
    "rng.permutation(10)"
   ]
  },
  {
   "cell_type": "code",
   "execution_count": 91,
   "metadata": {},
   "outputs": [
    {
     "data": {
      "text/plain": [
       "array([13, 78, 53, 72, 66, 95, 16, 68, 55, 23, 98, 12, 29, 38,  3, 17, 60,\n",
       "       58, 36, 63, 80, 89, 81, 30, 10, 28, 77, 41, 44, 19,  6, 70, 71, 18,\n",
       "       21, 57, 56, 92,  2, 74, 39, 73,  7, 31, 91, 84, 93, 83, 11, 34, 76,\n",
       "       99,  8, 86, 42, 61,  0, 54, 69,  4, 96, 85, 94, 25, 46, 20,  5, 62,\n",
       "       32, 52, 49, 88, 22, 59, 24, 97, 37, 45, 67, 47, 90, 26, 65, 33, 50,\n",
       "       35, 75,  9, 14, 40, 82, 79, 64, 87, 27, 15,  1, 48, 43, 51])"
      ]
     },
     "execution_count": 91,
     "metadata": {},
     "output_type": "execute_result"
    }
   ],
   "source": [
    "rng.permutation(100)"
   ]
  },
  {
   "cell_type": "markdown",
   "metadata": {},
   "source": [
    "### Distributions\n",
    "\n",
    "NumPy random has many different statistical distributions that can be used. 5 will be described here.\n",
    "\n",
    "* normal\n",
    "* uniform\n",
    "* zipf\n",
    "* poisson\n",
    "* binomial"
   ]
  },
  {
   "cell_type": "markdown",
   "metadata": {},
   "source": [
    "#### numpy.random.Generator.uniform\n",
    "The uniform distribution creates an array of values where the probability of each value occuring should be equal. This is how the integers and random functions described above are. They return data that is uniformly distributed. <code>low</code> is inclusive and the lowest possible value (>=) and <code>high</code> is exclusive (<) and the highest possible value. <code>size</code> is the the shape of the data to return so the quantity of values and the type of array. below returns 10 values between -2 and <4:"
   ]
  },
  {
   "cell_type": "code",
   "execution_count": 92,
   "metadata": {},
   "outputs": [
    {
     "data": {
      "text/plain": [
       "array([ 2.18324398, -1.74620304,  3.29973405,  3.52317039,  1.1932216 ,\n",
       "        3.75287524,  2.69004173,  0.62037767, -0.40813453, -1.55291161])"
      ]
     },
     "execution_count": 92,
     "metadata": {},
     "output_type": "execute_result"
    }
   ],
   "source": [
    "x = np.random.default_rng().uniform(-2,4,10)\n",
    "x"
   ]
  },
  {
   "cell_type": "markdown",
   "metadata": {},
   "source": [
    "The flatness of the histogram shows how evenly spread the data is:"
   ]
  },
  {
   "cell_type": "code",
   "execution_count": 93,
   "metadata": {},
   "outputs": [
    {
     "data": {
      "text/plain": [
       "(array([10017., 10106.,  9924., 10074.,  9963.,  9840.,  9933., 10154.,\n",
       "        10001.,  9988.]),\n",
       " array([-9.99983944e-01, -7.99988867e-01, -5.99993790e-01, -3.99998713e-01,\n",
       "        -2.00003636e-01, -8.55945922e-06,  1.99986517e-01,  3.99981594e-01,\n",
       "         5.99976671e-01,  7.99971748e-01,  9.99966825e-01]),\n",
       " <BarContainer object of 10 artists>)"
      ]
     },
     "execution_count": 93,
     "metadata": {},
     "output_type": "execute_result"
    },
    {
     "data": {
      "image/png": "[encoded data removed]",
      "text/plain": [
       "<Figure size 432x288 with 1 Axes>"
      ]
     },
     "metadata": {
      "needs_background": "light"
     },
     "output_type": "display_data"
    }
   ],
   "source": [
    "x = np.random.default_rng().uniform(-1,1,100000)\n",
    "plt.hist(x)"
   ]
  },
  {
   "cell_type": "markdown",
   "metadata": {},
   "source": [
    "## References\n",
    "[1] NumPy Random   \n",
    "https://numpy.org/doc/stable/reference/random/index.html\n",
    "\n",
    "[2] Generator documentation   \n",
    "https://numpy.org/doc/stable/reference/random/generator.html\n",
    "\n",
    "[3] Pseudo random numbers  \n",
    "https://www.random.org/randomness/\n",
    "\n",
    "[4] Integers documentation   \n",
    "https://numpy.org/doc/stable/reference/random/generated/numpy.random.Generator.integers.html#numpy.random.Generator.integers\n",
    "\n",
    "[5] Random for floats documentation  \n",
    "https://numpy.org/doc/stable/reference/random/generated/numpy.random.Generator.random.html#numpy.random.Generator.random\n",
    "\n",
    "[6] Shuffle documentation   \n",
    "https://numpy.org/doc/stable/reference/random/generated/numpy.random.Generator.shuffle.html#numpy.random.Generator.shuffle\n",
    "\n",
    "[7] Permutation documentation  \n",
    "https://numpy.org/doc/stable/reference/random/generated/numpy.random.Generator.permutation.html#numpy.random.Generator.permutation"
   ]
  }
 ],
 "metadata": {
  "kernelspec": {
   "display_name": "Python 3",
   "language": "python",
   "name": "python3"
  },
  "language_info": {
   "codemirror_mode": {
    "name": "ipython",
    "version": 3
   },
   "file_extension": ".py",
   "mimetype": "text/x-python",
   "name": "python",
   "nbconvert_exporter": "python",
   "pygments_lexer": "ipython3",
   "version": "3.7.3"
  }
 },
 "nbformat": 4,
 "nbformat_minor": 2
}

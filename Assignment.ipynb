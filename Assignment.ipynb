{
 "cells": [
  {
   "cell_type": "markdown",
   "metadata": {},
   "source": [
    "# <center>Assignment</center>\n",
    "\n",
    "# <center>The numpy.random package</center>"
   ]
  },
  {
   "cell_type": "markdown",
   "metadata": {},
   "source": [
    "## The purpose of numpy.random\n",
    "\n",
    "NumPy is a library for Python that has many optimised mathematical functions that provide an effective way of working with multi-dimensional arrays. Within NumPy there is a package called <code>random</code>. This package is used to produce sequences of pseudo random numbers for different statistical distributions [1]. This makes it a handy tool when it comes to data analysis. NumPy random can produce sets of data for testing algorithms and functions and for generating distributions to compare the results of some analysis against."
   ]
  },
  {
   "cell_type": "markdown",
   "metadata": {},
   "source": [
    "With the functions contained within random each has many different inputs that can change each distribution of data outputted in how the data is spread, the number of values returned and the range these values fall into. Each function is different in what can be changed and a few of them will be explored and their inputs, outputs explained here. There are many different functions available and technical information on their use is available on the SciPy website [2]. "
   ]
  },
  {
   "cell_type": "markdown",
   "metadata": {},
   "source": [
    "Random generates pseudo random numbers because the numbers appear random, but they are really predetermined and so are deterministic which can be good for data analysis in that the results can be reproduced [3]. When a program generates a random number without an external real-world random input the output can be predicted and so it is not truly random. The seed of the random number generator is the starting point for the pseudo random sequence. If you tell python which seed to use you can generate the same pseudo random numbers each time the code runs and so the same results and conclusions can be reached. "
   ]
  },
  {
   "cell_type": "markdown",
   "metadata": {},
   "source": [
    "## References\n",
    "[1] NumPy Random   \n",
    "https://numpy.org/doc/stable/reference/random/index.html\n",
    "\n",
    "[2] SciPy routines.random   \n",
    "https://docs.scipy.org/doc/numpy-1.15.0/reference/routines.random.html\n",
    "\n",
    "[3] Pseudo random numbers  \n",
    "https://www.random.org/randomness/"
   ]
  }
 ],
 "metadata": {
  "kernelspec": {
   "display_name": "Python 3",
   "language": "python",
   "name": "python3"
  },
  "language_info": {
   "codemirror_mode": {
    "name": "ipython",
    "version": 3
   },
   "file_extension": ".py",
   "mimetype": "text/x-python",
   "name": "python",
   "nbconvert_exporter": "python",
   "pygments_lexer": "ipython3",
   "version": "3.7.3"
  }
 },
 "nbformat": 4,
 "nbformat_minor": 2
}

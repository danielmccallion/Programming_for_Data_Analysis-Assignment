{
 "cells": [
  {
   "cell_type": "markdown",
   "metadata": {},
   "source": [
    "# Assignment\n",
    "\n",
    "# The numpy.random package"
   ]
  },
  {
   "cell_type": "markdown",
   "metadata": {},
   "source": [
    "## The purpose of numpy.random\n",
    "\n",
    "NumPy is a library for Python that has many optimised mathematical functions that provide an effective way of working with multi-dimensional arrays. Within NumPy there is a package called random. This package is used to produce sequences of pseudo random numbers for different statistical distributions [1]. This makes it a handy tool when it comes to data analysis. NumPy random can produce sets of data for testing algorithms and functions and for generating distributions to compare the results of some analysis against."
   ]
  },
  {
   "cell_type": "markdown",
   "metadata": {},
   "source": [
    "With the functions contained within random each has many different inputs that can change each distribution of data outputted in how the data is spread, the number of values returned and the range these values fall into. Each function is different in what can be changed and a few of them will be explored and their inputs, outputs explained here. There are many different functions available and technical information on their use is available in the NumPy documentation [2]. "
   ]
  },
  {
   "cell_type": "markdown",
   "metadata": {},
   "source": [
    "Random generates pseudo random numbers because the numbers appear random, but they are really predetermined and so are deterministic which can be good for data analysis in that the results can be reproduced [3]. When a program generates a random number without an external real-world random input the output can be predicted and so it is not truly random. The seed of the random number generator is the starting point for the pseudo random sequence. If you tell python which seed to use you can generate the same pseudo random numbers each time the code runs and so the same results and conclusions can be reached. "
   ]
  },
  {
   "cell_type": "markdown",
   "metadata": {},
   "source": [
    "### Simple random data\n",
    "\n",
    "Simple random data has functions that return random data such as integers, floats and characters between a inputed range. The outputs are simplier than the statistical distributions also provided by random. The inputs and outputs of these simple random data functions will be explained here.  "
   ]
  },
  {
   "cell_type": "code",
   "execution_count": 21,
   "metadata": {},
   "outputs": [],
   "source": [
    "# Import the numpy package\n",
    "import numpy as np\n",
    "\n",
    "# Get a random number generator object to produce the random numbers\n",
    "rng = np.random.default_rng()"
   ]
  },
  {
   "cell_type": "markdown",
   "metadata": {},
   "source": [
    "#### numpy.random.Generator.integers\n",
    "\n",
    " <code>Generator.integers(low, high=None, size=None, dtype=np.int64, endpoint=False)</code>\n",
    "\n",
    "Integers returns random integers from input <code>low</code> to input <code>high</code>. <code>low</code> is inclusive (>=) and <code>high</code> is exclusive (<). You must give it at least the input <code>low</code>. If <code>high</code> is empty then 0 will be substituted for it [4].   \n",
    "For the example running the below will return 15 numbers between 0 and <4:"
   ]
  },
  {
   "cell_type": "code",
   "execution_count": 22,
   "metadata": {},
   "outputs": [
    {
     "data": {
      "text/plain": [
       "array([2, 0, 0, 0, 1, 2, 2, 2, 1, 3, 3, 2, 3, 0, 2], dtype=int64)"
      ]
     },
     "execution_count": 22,
     "metadata": {},
     "output_type": "execute_result"
    }
   ],
   "source": [
    "rng.integers(4, size=15)"
   ]
  },
  {
   "cell_type": "markdown",
   "metadata": {},
   "source": [
    "Input <code>size</code> is the shape of the value to be returned. While 15 above returned 15 values a multi-dimensional array can also be returned such as the 3x4x2 array filled with values in the range 1 and <10:"
   ]
  },
  {
   "cell_type": "code",
   "execution_count": 23,
   "metadata": {},
   "outputs": [
    {
     "data": {
      "text/plain": [
       "array([[[4, 7],\n",
       "        [9, 4],\n",
       "        [4, 9],\n",
       "        [8, 6]],\n",
       "\n",
       "       [[1, 4],\n",
       "        [8, 5],\n",
       "        [8, 2],\n",
       "        [3, 6]],\n",
       "\n",
       "       [[8, 8],\n",
       "        [2, 5],\n",
       "        [8, 5],\n",
       "        [5, 6]]], dtype=int64)"
      ]
     },
     "execution_count": 23,
     "metadata": {},
     "output_type": "execute_result"
    }
   ],
   "source": [
    "rng.integers(1, high=10, size=(3,4,2))"
   ]
  },
  {
   "cell_type": "markdown",
   "metadata": {},
   "source": [
    "The data produced by random can be plotted to examine the distribution of the data produced. With this we can see is the pseudo random numbers generateds distribution is as expexted for our need. For integers it would be expected to recieve data where the probability of recieving each integer is the same."
   ]
  },
  {
   "cell_type": "code",
   "execution_count": 24,
   "metadata": {},
   "outputs": [],
   "source": [
    "# Import pyplot package for creating graphs\n",
    "\n",
    "import matplotlib.pyplot as plt"
   ]
  },
  {
   "cell_type": "markdown",
   "metadata": {},
   "source": [
    "To visualise the distribution of data for integers we will get it to generate the numbers between 0 and <100 10,000 times to see if the histogram this produces when graphed is flat."
   ]
  },
  {
   "cell_type": "code",
   "execution_count": 25,
   "metadata": {},
   "outputs": [],
   "source": [
    "x = rng.integers(100, size=10000)"
   ]
  },
  {
   "cell_type": "code",
   "execution_count": 26,
   "metadata": {},
   "outputs": [
    {
     "data": {
      "text/plain": [
       "(array([1000.,  977., 1006., 1054., 1003.,  974., 1015.,  980.,  954.,\n",
       "        1037.]),\n",
       " array([ 0. ,  9.9, 19.8, 29.7, 39.6, 49.5, 59.4, 69.3, 79.2, 89.1, 99. ]),\n",
       " <BarContainer object of 10 artists>)"
      ]
     },
     "execution_count": 26,
     "metadata": {},
     "output_type": "execute_result"
    },
    {
     "data": {
      "image/png": "[encoded data removed]",
      "text/plain": [
       "<Figure size 432x288 with 1 Axes>"
      ]
     },
     "metadata": {
      "needs_background": "light"
     },
     "output_type": "display_data"
    }
   ],
   "source": [
    "plt.hist(x)"
   ]
  },
  {
   "cell_type": "markdown",
   "metadata": {},
   "source": [
    "As you can see it is fairly flat. When even more numbers are generated as below with 1,000,000 it will be even more flat."
   ]
  },
  {
   "cell_type": "code",
   "execution_count": 27,
   "metadata": {},
   "outputs": [],
   "source": [
    "x = rng.integers(100, size=1000000)"
   ]
  },
  {
   "cell_type": "code",
   "execution_count": 28,
   "metadata": {},
   "outputs": [
    {
     "data": {
      "text/plain": [
       "(array([100459., 100254., 100318., 100220., 100201.,  99698.,  99459.,\n",
       "         99600.,  99742., 100049.]),\n",
       " array([ 0. ,  9.9, 19.8, 29.7, 39.6, 49.5, 59.4, 69.3, 79.2, 89.1, 99. ]),\n",
       " <BarContainer object of 10 artists>)"
      ]
     },
     "execution_count": 28,
     "metadata": {},
     "output_type": "execute_result"
    },
    {
     "data": {
      "image/png": "[encoded data removed]",
      "text/plain": [
       "<Figure size 432x288 with 1 Axes>"
      ]
     },
     "metadata": {
      "needs_background": "light"
     },
     "output_type": "display_data"
    }
   ],
   "source": [
    "plt.hist(x)"
   ]
  },
  {
   "cell_type": "markdown",
   "metadata": {},
   "source": [
    "#### numpy.random.Generator.random\n",
    "<code>high</code>\n",
    "<code>Generator.random(size=None, dtype=np.float64, out=None</code>\n",
    "\n",
    "Random returns floats between 0 and 1. <code>size</code> determines the shape of the data returned, so the number of values and the type of array [5]. For example the below returns 10 floats between 0 and 1."
   ]
  },
  {
   "cell_type": "code",
   "execution_count": 29,
   "metadata": {},
   "outputs": [
    {
     "data": {
      "text/plain": [
       "array([0.68096876, 0.91184768, 0.50945592, 0.23226141, 0.82253265,\n",
       "       0.69889145, 0.12807625, 0.77886518, 0.9990504 , 0.13256131])"
      ]
     },
     "execution_count": 29,
     "metadata": {},
     "output_type": "execute_result"
    }
   ],
   "source": [
    "rng.random((10,))"
   ]
  },
  {
   "cell_type": "markdown",
   "metadata": {},
   "source": [
    "The below returns a 2 dimensional array with 5 floats in each row: "
   ]
  },
  {
   "cell_type": "code",
   "execution_count": 30,
   "metadata": {},
   "outputs": [
    {
     "data": {
      "text/plain": [
       "array([[0.04045504, 0.1076566 , 0.14244339, 0.8127929 , 0.829077  ],\n",
       "       [0.53062156, 0.91074026, 0.39172661, 0.26891284, 0.52385499]])"
      ]
     },
     "execution_count": 30,
     "metadata": {},
     "output_type": "execute_result"
    }
   ],
   "source": [
    "rng.random((2,5))"
   ]
  },
  {
   "cell_type": "markdown",
   "metadata": {},
   "source": [
    "There is a uniform distribution returned from random just like integers as can be seen in the histogram below:"
   ]
  },
  {
   "cell_type": "code",
   "execution_count": 31,
   "metadata": {},
   "outputs": [],
   "source": [
    "x = rng.random((100000,))"
   ]
  },
  {
   "cell_type": "code",
   "execution_count": 32,
   "metadata": {},
   "outputs": [
    {
     "data": {
      "text/plain": [
       "(array([ 9950., 10021., 10010.,  9878.,  9979.,  9897., 10155., 10245.,\n",
       "         9825., 10040.]),\n",
       " array([5.94543131e-06, 1.00004630e-01, 2.00003314e-01, 3.00001998e-01,\n",
       "        4.00000683e-01, 4.99999367e-01, 5.99998051e-01, 6.99996736e-01,\n",
       "        7.99995420e-01, 8.99994104e-01, 9.99992788e-01]),\n",
       " <BarContainer object of 10 artists>)"
      ]
     },
     "execution_count": 32,
     "metadata": {},
     "output_type": "execute_result"
    },
    {
     "data": {
      "image/png": "[encoded data removed]",
      "text/plain": [
       "<Figure size 432x288 with 1 Axes>"
      ]
     },
     "metadata": {
      "needs_background": "light"
     },
     "output_type": "display_data"
    }
   ],
   "source": [
    "plt.hist(x)"
   ]
  },
  {
   "cell_type": "markdown",
   "metadata": {},
   "source": [
    "## References\n",
    "[1] NumPy Random   \n",
    "https://numpy.org/doc/stable/reference/random/index.html\n",
    "\n",
    "[2] Generator documentation   \n",
    "https://numpy.org/doc/stable/reference/random/generator.html\n",
    "\n",
    "[3] Pseudo random numbers  \n",
    "https://www.random.org/randomness/\n",
    "\n",
    "[4] Integers documentation   \n",
    "https://numpy.org/doc/stable/reference/random/generated/numpy.random.Generator.integers.html#numpy.random.Generator.integers\n",
    "\n",
    "[5] Random for floats documentation  \n",
    "https://numpy.org/doc/stable/reference/random/generated/numpy.random.Generator.random.html#numpy.random.Generator.random"
   ]
  },
  {
   "cell_type": "code",
   "execution_count": null,
   "metadata": {},
   "outputs": [],
   "source": []
  }
 ],
 "metadata": {
  "kernelspec": {
   "display_name": "Python 3",
   "language": "python",
   "name": "python3"
  },
  "language_info": {
   "codemirror_mode": {
    "name": "ipython",
    "version": 3
   },
   "file_extension": ".py",
   "mimetype": "text/x-python",
   "name": "python",
   "nbconvert_exporter": "python",
   "pygments_lexer": "ipython3",
   "version": "3.7.3"
  }
 },
 "nbformat": 4,
 "nbformat_minor": 2
}

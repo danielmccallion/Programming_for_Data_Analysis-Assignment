{
 "cells": [
  {
   "cell_type": "markdown",
   "metadata": {},
   "source": [
    "# Assignment\n",
    "\n",
    "# The numpy.random package"
   ]
  },
  {
   "cell_type": "markdown",
   "metadata": {},
   "source": [
    "## The purpose of numpy.random\n",
    "\n",
    "NumPy is a library for Python that has many optimised mathematical functions that provide an effective way of working with multi-dimensional arrays. Within NumPy there is a package called random. This package is used to produce sequences of pseudo random numbers for different statistical distributions [1]. This makes it a handy tool when it comes to data analysis. NumPy random can produce sets of data for testing algorithms and functions and for generating distributions to compare the results of some analysis against."
   ]
  },
  {
   "cell_type": "markdown",
   "metadata": {},
   "source": [
    "With the functions contained within random each has many different inputs that can change each distribution of data outputted in how the data is spread, the number of values returned and the range these values fall into. Each function is different in what can be changed and a few of them will be explored and their inputs, outputs explained here. There are many different functions available and technical information on their use is available in the NumPy documentation [2]. "
   ]
  },
  {
   "cell_type": "markdown",
   "metadata": {},
   "source": [
    "Random generates pseudo random numbers because the numbers appear random, but they are really predetermined and so are deterministic which can be good for data analysis in that the results can be reproduced [3]. When a program generates a random number without an external real-world random input the output can be predicted and so it is not truly random. The seed of the random number generator is the starting point for the pseudo random sequence. If you tell python which seed to use you can generate the same pseudo random numbers each time the code runs and so the same results and conclusions can be reached. "
   ]
  },
  {
   "cell_type": "markdown",
   "metadata": {},
   "source": [
    "### Simple random data\n",
    "\n",
    "Simple random data has functions that return random data such as integers, floats and characters between a inputed range. The outputs are simplier than the statistical distributions also provided by random. The inputs and outputs of these simple random data functions will be explained here.  "
   ]
  },
  {
   "cell_type": "code",
   "execution_count": 43,
   "metadata": {},
   "outputs": [],
   "source": [
    "# Import the numpy package\n",
    "import numpy as np\n",
    "\n",
    "# Get a random number generator object to produce the random numbers\n",
    "rng = np.random.default_rng()"
   ]
  },
  {
   "cell_type": "markdown",
   "metadata": {},
   "source": [
    "#### numpy.random.Generator.integers\n",
    "\n",
    " <code>Generator.integers(low, high=None, size=None, dtype=np.int64, endpoint=False)</code>\n",
    "\n",
    "Integers returns random integers from input <code>low</code> to input <code>high</code>. <code>low</code> is inclusive (>=) and <code>high</code> is exclusive (<). You must give it at least the input <code>low</code>. If <code>high</code> is empty then 0 will be substituted for it [4].   \n",
    "For the example running the below will return 15 numbers between 0 and <4:"
   ]
  },
  {
   "cell_type": "code",
   "execution_count": 44,
   "metadata": {},
   "outputs": [
    {
     "data": {
      "text/plain": [
       "array([0, 3, 3, 1, 3, 0, 0, 2, 2, 1, 1, 2, 2, 3, 0], dtype=int64)"
      ]
     },
     "execution_count": 44,
     "metadata": {},
     "output_type": "execute_result"
    }
   ],
   "source": [
    "rng.integers(4, size=15)"
   ]
  },
  {
   "cell_type": "markdown",
   "metadata": {},
   "source": [
    "Input <code>size</code> is the shape of the value to be returned. While 15 above returned 15 values a multi-dimensional array can also be returned such as the 3x4x2 array filled with values in the range 1 and <10:"
   ]
  },
  {
   "cell_type": "code",
   "execution_count": 45,
   "metadata": {},
   "outputs": [
    {
     "data": {
      "text/plain": [
       "array([[[6, 9],\n",
       "        [5, 8],\n",
       "        [7, 7],\n",
       "        [6, 7]],\n",
       "\n",
       "       [[8, 4],\n",
       "        [6, 7],\n",
       "        [1, 3],\n",
       "        [5, 2]],\n",
       "\n",
       "       [[4, 9],\n",
       "        [9, 6],\n",
       "        [7, 6],\n",
       "        [2, 6]]], dtype=int64)"
      ]
     },
     "execution_count": 45,
     "metadata": {},
     "output_type": "execute_result"
    }
   ],
   "source": [
    "rng.integers(1, high=10, size=(3,4,2))"
   ]
  },
  {
   "cell_type": "markdown",
   "metadata": {},
   "source": [
    "The data produced by random can be plotted to examine the distribution of the data produced. With this we can see is the pseudo random numbers generateds distribution is as expexted for our need. For integers it would be expected to recieve data where the probability of recieving each integer is the same."
   ]
  },
  {
   "cell_type": "code",
   "execution_count": 46,
   "metadata": {},
   "outputs": [],
   "source": [
    "# Import pyplot package for creating graphs\n",
    "\n",
    "import matplotlib.pyplot as plt"
   ]
  },
  {
   "cell_type": "markdown",
   "metadata": {},
   "source": [
    "To visualise the distribution of data for integers we will get it to generate the numbers between 0 and <100 10,000 times to see if the histogram this produces when graphed is flat."
   ]
  },
  {
   "cell_type": "code",
   "execution_count": 47,
   "metadata": {},
   "outputs": [],
   "source": [
    "x = rng.integers(100, size=10000)"
   ]
  },
  {
   "cell_type": "code",
   "execution_count": 48,
   "metadata": {},
   "outputs": [
    {
     "data": {
      "text/plain": [
       "(array([ 985.,  974., 1015., 1015., 1044., 1020.,  976.,  963.,  978.,\n",
       "        1030.]),\n",
       " array([ 0. ,  9.9, 19.8, 29.7, 39.6, 49.5, 59.4, 69.3, 79.2, 89.1, 99. ]),\n",
       " <BarContainer object of 10 artists>)"
      ]
     },
     "execution_count": 48,
     "metadata": {},
     "output_type": "execute_result"
    },
    {
     "data": {
      "image/png": "[encoded data removed]",
      "text/plain": [
       "<Figure size 432x288 with 1 Axes>"
      ]
     },
     "metadata": {
      "needs_background": "light"
     },
     "output_type": "display_data"
    }
   ],
   "source": [
    "plt.hist(x)"
   ]
  },
  {
   "cell_type": "markdown",
   "metadata": {},
   "source": [
    "As you can see it is fairly flat. When even more numbers are generated as below with 1,000,000 it will be even more flat."
   ]
  },
  {
   "cell_type": "code",
   "execution_count": 49,
   "metadata": {},
   "outputs": [],
   "source": [
    "x = rng.integers(100, size=1000000)"
   ]
  },
  {
   "cell_type": "code",
   "execution_count": 50,
   "metadata": {},
   "outputs": [
    {
     "data": {
      "text/plain": [
       "(array([100619., 100014.,  99987.,  99916.,  99330., 100294., 100305.,\n",
       "         99521.,  99753., 100261.]),\n",
       " array([ 0. ,  9.9, 19.8, 29.7, 39.6, 49.5, 59.4, 69.3, 79.2, 89.1, 99. ]),\n",
       " <BarContainer object of 10 artists>)"
      ]
     },
     "execution_count": 50,
     "metadata": {},
     "output_type": "execute_result"
    },
    {
     "data": {
      "image/png": "[encoded data removed]",
      "text/plain": [
       "<Figure size 432x288 with 1 Axes>"
      ]
     },
     "metadata": {
      "needs_background": "light"
     },
     "output_type": "display_data"
    }
   ],
   "source": [
    "plt.hist(x)"
   ]
  },
  {
   "cell_type": "markdown",
   "metadata": {},
   "source": [
    "#### numpy.random.Generator.random\n",
    "<code>Generator.random(size=None, dtype=np.float64, out=None</code>\n",
    "\n",
    "Random returns floats between 0 and 1. <code>size</code> determines the shape of the data returned, so the number of values and the type of array [5]. For example the below returns 10 floats between 0 and 1."
   ]
  },
  {
   "cell_type": "code",
   "execution_count": 51,
   "metadata": {},
   "outputs": [
    {
     "data": {
      "text/plain": [
       "array([0.03195469, 0.05482138, 0.57016676, 0.43880828, 0.63202065,\n",
       "       0.83459811, 0.36678287, 0.8545844 , 0.61546338, 0.47036251])"
      ]
     },
     "execution_count": 51,
     "metadata": {},
     "output_type": "execute_result"
    }
   ],
   "source": [
    "rng.random((10,))"
   ]
  },
  {
   "cell_type": "markdown",
   "metadata": {},
   "source": [
    "The below returns a 2 dimensional array with 5 floats in each row: "
   ]
  },
  {
   "cell_type": "code",
   "execution_count": 52,
   "metadata": {},
   "outputs": [
    {
     "data": {
      "text/plain": [
       "array([[0.76357349, 0.78670264, 0.11230396, 0.48888276, 0.48825456],\n",
       "       [0.63380226, 0.06465142, 0.52344929, 0.8905043 , 0.45123341]])"
      ]
     },
     "execution_count": 52,
     "metadata": {},
     "output_type": "execute_result"
    }
   ],
   "source": [
    "rng.random((2,5))"
   ]
  },
  {
   "cell_type": "markdown",
   "metadata": {},
   "source": [
    "There is a uniform distribution returned from random just like integers as can be seen in the histogram below:"
   ]
  },
  {
   "cell_type": "code",
   "execution_count": 53,
   "metadata": {},
   "outputs": [],
   "source": [
    "x = rng.random((100000,))"
   ]
  },
  {
   "cell_type": "code",
   "execution_count": 54,
   "metadata": {},
   "outputs": [
    {
     "data": {
      "text/plain": [
       "(array([ 9983.,  9925., 10155., 10143., 10145.,  9781.,  9914., 10017.,\n",
       "         9992.,  9945.]),\n",
       " array([2.29000635e-05, 1.00020142e-01, 2.00017385e-01, 3.00014627e-01,\n",
       "        4.00011869e-01, 5.00009112e-01, 6.00006354e-01, 7.00003596e-01,\n",
       "        8.00000838e-01, 8.99998081e-01, 9.99995323e-01]),\n",
       " <BarContainer object of 10 artists>)"
      ]
     },
     "execution_count": 54,
     "metadata": {},
     "output_type": "execute_result"
    },
    {
     "data": {
      "image/png": "[encoded data removed]",
      "text/plain": [
       "<Figure size 432x288 with 1 Axes>"
      ]
     },
     "metadata": {
      "needs_background": "light"
     },
     "output_type": "display_data"
    }
   ],
   "source": [
    "plt.hist(x)"
   ]
  },
  {
   "cell_type": "markdown",
   "metadata": {},
   "source": [
    "### Permutations\n",
    "Permuations contains shuffle and permutation. These are quite similar in their function."
   ]
  },
  {
   "cell_type": "markdown",
   "metadata": {},
   "source": [
    "#### numpy.random.Generator.shuffle\n",
    "<code>Generator.shuffle(x, axis=0)</code>   \n",
    "What shuffle does is takes an array and modifies the sequence of its contents are in by shuffling them [6]. <code>x</code> is the array input and the function does not return anything."
   ]
  },
  {
   "cell_type": "code",
   "execution_count": 55,
   "metadata": {},
   "outputs": [
    {
     "data": {
      "text/plain": [
       "array([1, 1, 0, 6, 7, 9, 1, 2, 9, 5], dtype=int64)"
      ]
     },
     "execution_count": 55,
     "metadata": {},
     "output_type": "execute_result"
    }
   ],
   "source": [
    "x = rng.integers(10, size=10)\n",
    "x"
   ]
  },
  {
   "cell_type": "code",
   "execution_count": 56,
   "metadata": {},
   "outputs": [
    {
     "data": {
      "text/plain": [
       "array([7, 6, 1, 0, 5, 1, 9, 1, 2, 9], dtype=int64)"
      ]
     },
     "execution_count": 56,
     "metadata": {},
     "output_type": "execute_result"
    }
   ],
   "source": [
    "rng.shuffle(x)\n",
    "x"
   ]
  },
  {
   "cell_type": "markdown",
   "metadata": {},
   "source": [
    "#### numpy.random.Generator.permutation\n",
    "<code>Generator.permutation(x, axis=0)</code>   \n",
    "With permutation the input array is not changed and an output is provided taht is shuffled [7]. <code>x</code> is either the array to used as the base for the array to be shuffled and returned or an integer that will be the number of values to return and the number that the array will go up to. As you can see below x from earlier is not changed:"
   ]
  },
  {
   "cell_type": "code",
   "execution_count": 57,
   "metadata": {},
   "outputs": [
    {
     "data": {
      "text/plain": [
       "array([9, 9, 1, 5, 6, 7, 2, 0, 1, 1], dtype=int64)"
      ]
     },
     "execution_count": 57,
     "metadata": {},
     "output_type": "execute_result"
    }
   ],
   "source": [
    "rng.permutation(x)"
   ]
  },
  {
   "cell_type": "code",
   "execution_count": 58,
   "metadata": {},
   "outputs": [
    {
     "data": {
      "text/plain": [
       "array([7, 6, 1, 0, 5, 1, 9, 1, 2, 9], dtype=int64)"
      ]
     },
     "execution_count": 58,
     "metadata": {},
     "output_type": "execute_result"
    }
   ],
   "source": [
    "x"
   ]
  },
  {
   "cell_type": "markdown",
   "metadata": {},
   "source": [
    "Below is where the input is an integer:"
   ]
  },
  {
   "cell_type": "code",
   "execution_count": 59,
   "metadata": {},
   "outputs": [
    {
     "data": {
      "text/plain": [
       "array([9, 1, 0, 6, 2, 5, 3, 4, 8, 7])"
      ]
     },
     "execution_count": 59,
     "metadata": {},
     "output_type": "execute_result"
    }
   ],
   "source": [
    "rng.permutation(10)"
   ]
  },
  {
   "cell_type": "code",
   "execution_count": 60,
   "metadata": {},
   "outputs": [
    {
     "data": {
      "text/plain": [
       "array([28, 40, 10, 59, 58, 30, 82, 57, 73, 55, 66, 62,  0, 95, 18, 83, 36,\n",
       "       88, 69, 45, 53,  2, 89, 91, 25,  4, 19, 21, 92, 98, 56, 38, 61, 46,\n",
       "       90, 85,  8, 39, 87, 54,  6, 74, 77,  5, 84, 23, 32, 93, 44, 24,  3,\n",
       "       37, 13, 29, 42,  1, 17, 43, 97, 67, 75, 99, 14, 20, 16, 76, 41, 64,\n",
       "       52, 50, 70, 49, 51, 81, 27, 11, 72, 80, 71, 15, 60, 86, 63, 22, 65,\n",
       "       35, 33,  7, 31, 12, 79, 94, 68, 96, 26,  9, 34, 48, 47, 78])"
      ]
     },
     "execution_count": 60,
     "metadata": {},
     "output_type": "execute_result"
    }
   ],
   "source": [
    "rng.permutation(100)"
   ]
  },
  {
   "cell_type": "markdown",
   "metadata": {},
   "source": [
    "## References\n",
    "[1] NumPy Random   \n",
    "https://numpy.org/doc/stable/reference/random/index.html\n",
    "\n",
    "[2] Generator documentation   \n",
    "https://numpy.org/doc/stable/reference/random/generator.html\n",
    "\n",
    "[3] Pseudo random numbers  \n",
    "https://www.random.org/randomness/\n",
    "\n",
    "[4] Integers documentation   \n",
    "https://numpy.org/doc/stable/reference/random/generated/numpy.random.Generator.integers.html#numpy.random.Generator.integers\n",
    "\n",
    "[5] Random for floats documentation  \n",
    "https://numpy.org/doc/stable/reference/random/generated/numpy.random.Generator.random.html#numpy.random.Generator.random\n",
    "\n",
    "[6] Shuffle documentation   \n",
    "https://numpy.org/doc/stable/reference/random/generated/numpy.random.Generator.shuffle.html#numpy.random.Generator.shuffle\n",
    "\n",
    "[7] Permutation documentation  \n",
    "https://numpy.org/doc/stable/reference/random/generated/numpy.random.Generator.permutation.html#numpy.random.Generator.permutation"
   ]
  }
 ],
 "metadata": {
  "kernelspec": {
   "display_name": "Python 3",
   "language": "python",
   "name": "python3"
  },
  "language_info": {
   "codemirror_mode": {
    "name": "ipython",
    "version": 3
   },
   "file_extension": ".py",
   "mimetype": "text/x-python",
   "name": "python",
   "nbconvert_exporter": "python",
   "pygments_lexer": "ipython3",
   "version": "3.7.3"
  }
 },
 "nbformat": 4,
 "nbformat_minor": 2
}
